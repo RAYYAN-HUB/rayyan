{
  "cells": [
    {
      "cell_type": "markdown",
      "metadata": {
        "id": "view-in-github",
        "colab_type": "text"
      },
      "source": [
        "<a href=\"https://colab.research.google.com/github/RAYYAN-HUB/rayyan/blob/main/INBreasts_Tensorflow.ipynb\" target=\"_parent\"><img src=\"https://colab.research.google.com/assets/colab-badge.svg\" alt=\"Open In Colab\"/></a>"
      ]
    },
    {
      "cell_type": "code",
      "source": [
        "from google.colab import drive\n",
        "drive.mount('/content/drive')"
      ],
      "metadata": {
        "id": "OAeQlxn7NDzK"
      },
      "id": "OAeQlxn7NDzK",
      "execution_count": null,
      "outputs": []
    },
    {
      "cell_type": "code",
      "source": [
        "!pip install pydicom"
      ],
      "metadata": {
        "id": "-SUgu9bWNv-5"
      },
      "id": "-SUgu9bWNv-5",
      "execution_count": null,
      "outputs": []
    },
    {
      "cell_type": "code",
      "execution_count": null,
      "id": "7df24f6a",
      "metadata": {
        "id": "7df24f6a"
      },
      "outputs": [],
      "source": [
        "from tensorflow import keras\n",
        "import numpy as np\n",
        "from tensorflow.keras.preprocessing.image import load_img\n",
        "import os\n",
        "import pandas as pd\n",
        "import pydicom as dicom\n",
        "from skimage.transform import resize\n",
        "import tensorflow as tf\n",
        "import cv2"
      ]
    },
    {
      "cell_type": "code",
      "execution_count": null,
      "id": "382dd8ea",
      "metadata": {
        "id": "382dd8ea"
      },
      "outputs": [],
      "source": [
        "class ImageDataset(keras.utils.Sequence):\n",
        "    \"\"\"Helper to iterate over the data (as Numpy arrays).\"\"\"\n",
        "\n",
        "    def __init__(self, root_dir, transform = None, train = True):\n",
        "        self.root_dir = root_dir\n",
        "        self.transform = transform\n",
        "        #self.paths = os.listdir(self.image_dir)\n",
        "        self.train = train\n",
        "        if self.train:\n",
        "            self.labels = pd.read_csv(self.root_dir + 'Train_INbreast.csv', delimiter = ',')\n",
        "            self.labels = self.labels['Bi-Rads']\n",
        "            self.image_dir = self.root_dir + 'Train_AllDICOMs'\n",
        "            self.paths = os.listdir(self.image_dir)\n",
        "        else:\n",
        "            self.labels = pd.read_csv(self.root_dir + 'Val_INbreast.csv', delimiter = ',')\n",
        "            self.labels = self.labels['Bi-Rads']\n",
        "            self.image_dir = self.root_dir + 'Val_AllDICOMs'\n",
        "            self.paths = os.listdir(self.image_dir)\n",
        "\n",
        "    \n",
        "\n",
        "    def __len__(self):\n",
        "        return len(self.paths)\n",
        "    \n",
        "    def flip(self, image, vflip=False, hflip=False):\n",
        "        '''\n",
        "        Flip the image\n",
        "        :param image: image to be processed\n",
        "        :param vflip: whether to flip the image vertically\n",
        "        :param hflip: whether to flip the image horizontally\n",
        "        '''\n",
        "        if hflip or vflip:\n",
        "            if hflip and vflip:\n",
        "                c = -1\n",
        "            else:\n",
        "                c = 0 if vflip else 1\n",
        "            image = cv2.flip(image, flipCode=c)\n",
        "        return image \n",
        "    \n",
        "    def rotate(self, image, angle=90, scale=1.0):\n",
        "        '''\n",
        "        Rotate the image\n",
        "        :param image: image to be processed\n",
        "        :param angle: Rotation angle in degrees. Positive values mean counter-clockwise rotation (the coordinate origin is assumed to be the top-left corner).\n",
        "        :param scale: Isotropic scale factor.\n",
        "        '''\n",
        "        w = image.shape[1]\n",
        "        h = image.shape[0]\n",
        "        #rotate matrix\n",
        "        M = cv2.getRotationMatrix2D((w/2,h/2), angle, scale)\n",
        "        #rotate\n",
        "        image = cv2.warpAffine(image,M,(w,h))\n",
        "        return image\n",
        "    \n",
        "    def invert_image(self, image,channel=1):\n",
        "        image=(channel-image)\n",
        "        return image\n",
        "        \n",
        "    def gausian_blur(self, image,blur = 0.3):\n",
        "        image = cv2.GaussianBlur(image,(5,5),blur)\n",
        "        return image\n",
        "    \n",
        "\n",
        "    def augment(self, image):\n",
        "       frame = self.rotate(image, angle=90, scale=1.0)\n",
        "       frame = self.flip(image, vflip=True, hflip=False)\n",
        "       frame = self.flip(image, vflip=False, hflip=True)\n",
        "       frame = self.invert_image(frame)\n",
        "       frame = self.gausian_blur(frame)\n",
        "       return frame\n",
        "\n",
        "    def __getitem__(self, index):\n",
        "        array = dicom.dcmread(self.image_dir+'/'+self.paths[index], force=True)\n",
        "        array.file_meta.TransferSyntaxUID = dicom.uid.ImplicitVRLittleEndian\n",
        "        array = array.pixel_array.astype('float')\n",
        "        #array = cv2.resize(frame, (224, 224), interpolation = cv2.INTER_AREA)\n",
        "        array = resize(array, (224, 224), anti_aliasing=True)\n",
        "        label = list(self.labels[index])[0]\n",
        "        label = np.asarray([int(label)])\n",
        "        label = tf.keras.utils.to_categorical(label -1, num_classes=6)\n",
        "        \n",
        "        \n",
        "        if self.transform:\n",
        "            array = self.augment(array)\n",
        "            array = np.stack((array,)*3, axis=2)\n",
        "            array = np.expand_dims(array, axis=0)\n",
        "            array = np.asarray(array)\n",
        "            \n",
        "        else:\n",
        "            array = np.stack((array,)*3, axis=2)\n",
        "            array = np.expand_dims(array, axis=0)\n",
        "            array = np.asarray(array)\n",
        "        return array, label"
      ]
    },
    {
      "cell_type": "code",
      "source": [
        "train_gen = ImageDataset('/content/drive/MyDrive/INbreast/', transform = True, train = True)"
      ],
      "metadata": {
        "id": "lV83Uz8xGr3V"
      },
      "id": "lV83Uz8xGr3V",
      "execution_count": null,
      "outputs": []
    },
    {
      "cell_type": "code",
      "execution_count": null,
      "id": "c9427592",
      "metadata": {
        "id": "c9427592"
      },
      "outputs": [],
      "source": [
        "val_gen = ImageDataset('/content/drive/MyDrive/INbreast/', transform = None, train = False)"
      ]
    },
    {
      "cell_type": "code",
      "execution_count": null,
      "id": "fcc7d88d",
      "metadata": {
        "id": "fcc7d88d"
      },
      "outputs": [],
      "source": [
        "for idx, (x, y) in enumerate(val_gen):\n",
        "  print(idx, x.shape, y.shape)\n",
        "  break"
      ]
    },
    {
      "cell_type": "code",
      "execution_count": null,
      "id": "7b4dc42c",
      "metadata": {
        "id": "7b4dc42c"
      },
      "outputs": [],
      "source": [
        "from tensorflow.keras.applications.vgg16 import VGG16\n",
        "\n",
        "base_model = VGG16(input_shape = (224, 224, 3), # Shape of our images\n",
        "include_top = False, # Leave out the last fully connected layer\n",
        "weights = 'imagenet')"
      ]
    },
    {
      "cell_type": "code",
      "execution_count": null,
      "id": "9351213e",
      "metadata": {
        "id": "9351213e"
      },
      "outputs": [],
      "source": [
        "# Flatten the output layer to 1 dimension\n",
        "x = tf.keras.layers.Flatten()(base_model.output)\n",
        "\n",
        "# Add a fully connected layer with 512 hidden units and ReLU activation\n",
        "x = tf.keras.layers.Dense(512, activation='relu')(x)\n",
        "\n",
        "# Add a dropout rate of 0.5\n",
        "x = tf.keras.layers.Dropout(0.5)(x)\n",
        "\n",
        "# Add a final sigmoid layer with 1 node for classification output\n",
        "x = tf.keras.layers.Dense(6, activation='softmax')(x)\n",
        "\n",
        "model = tf.keras.models.Model(base_model.input, x)\n",
        "\n",
        "model.compile(optimizer = tf.keras.optimizers.RMSprop(learning_rate=0.00001), loss = 'CategoricalCrossentropy',metrics = ['AUC'])"
      ]
    },
    {
      "cell_type": "code",
      "execution_count": null,
      "id": "8261d07f",
      "metadata": {
        "id": "8261d07f"
      },
      "outputs": [],
      "source": [
        "checkpoint_filepath = \"/content/drive/MyDrive/INBreastNet/INBreast/Model.h5\"\n",
        "model_checkpoint_callback = tf.keras.callbacks.ModelCheckpoint(\n",
        "    filepath=checkpoint_filepath,\n",
        "    save_weights_only=False,\n",
        "    monitor='val_auc',\n",
        "    mode='max',\n",
        "    save_best_only=True,\n",
        "    verbose=1)\n",
        "\n",
        "vgghist = model.fit((train_gen), shuffle=True, batch_size = 8, epochs = 10, callbacks=[model_checkpoint_callback], validation_data=(val_gen))"
      ]
    },
    {
      "cell_type": "code",
      "source": [
        " "
      ],
      "metadata": {
        "id": "7OiUZCawAdaw"
      },
      "id": "7OiUZCawAdaw",
      "execution_count": null,
      "outputs": []
    },
    {
      "cell_type": "markdown",
      "source": [],
      "metadata": {
        "id": "Ftgp_JFbAeVb"
      },
      "id": "Ftgp_JFbAeVb"
    },
    {
      "cell_type": "code",
      "execution_count": null,
      "id": "8e4a1e76",
      "metadata": {
        "id": "8e4a1e76"
      },
      "outputs": [],
      "source": []
    },
    {
      "cell_type": "code",
      "execution_count": null,
      "id": "e2f41f3f",
      "metadata": {
        "id": "e2f41f3f"
      },
      "outputs": [],
      "source": []
    },
    {
      "cell_type": "code",
      "execution_count": null,
      "id": "c149c025",
      "metadata": {
        "id": "c149c025"
      },
      "outputs": [],
      "source": []
    },
    {
      "cell_type": "code",
      "execution_count": null,
      "id": "69742d4a",
      "metadata": {
        "id": "69742d4a"
      },
      "outputs": [],
      "source": [
        "class TestDataset(keras.utils.Sequence):\n",
        "    \"\"\"Helper to iterate over the data (as Numpy arrays).\"\"\"\n",
        "\n",
        "    def __init__(self, root_dir):\n",
        "        self.root_dir = root_dir\n",
        "        self.image_dir = self.root_dir + 'Val_AllDICOMs'\n",
        "        self.paths = os.listdir(self.image_dir)\n",
        "\n",
        "    \n",
        "\n",
        "    def __len__(self):\n",
        "        return len(self.paths)\n",
        "    \n",
        "    \n",
        "\n",
        "    def __getitem__(self, index):\n",
        "        array = dicom.dcmread(self.image_dir+'/'+self.paths[index], force=True)\n",
        "        array.file_meta.TransferSyntaxUID = dicom.uid.ImplicitVRLittleEndian\n",
        "        array = array.pixel_array.astype('float')\n",
        "        #array = cv2.resize(frame, (224, 224), interpolation = cv2.INTER_AREA)\n",
        "        array = resize(array, (224, 224), anti_aliasing=True)\n",
        "\n",
        "        array = np.stack((array,)*3, axis=2)\n",
        "        array = np.expand_dims(array, axis=0)\n",
        "        array = np.asarray(array)\n",
        "        return array"
      ]
    },
    {
      "cell_type": "code",
      "execution_count": null,
      "id": "0a8cb6ad",
      "metadata": {
        "id": "0a8cb6ad"
      },
      "outputs": [],
      "source": [
        "test_gen = TestDataset('/content/drive/MyDrive/INbreast/')"
      ]
    },
    {
      "cell_type": "code",
      "execution_count": null,
      "id": "557d8ad8",
      "metadata": {
        "id": "557d8ad8"
      },
      "outputs": [],
      "source": [
        "model = keras.models.load_model('/content/drive/MyDrive/INBreastNet/INBreast/Model.h5')"
      ]
    },
    {
      "cell_type": "code",
      "execution_count": null,
      "id": "a54a8edd",
      "metadata": {
        "id": "a54a8edd"
      },
      "outputs": [],
      "source": [
        "y_prob = model.predict((test_gen))\n",
        "y_classes = y_prob.argmax(axis=1)\n",
        "y_classes"
      ]
    },
    {
      "cell_type": "code",
      "execution_count": null,
      "id": "d0cbca9e",
      "metadata": {
        "id": "d0cbca9e"
      },
      "outputs": [],
      "source": []
    }
  ],
  "metadata": {
    "kernelspec": {
      "display_name": "tensorflow",
      "language": "python",
      "name": "tensorflow"
    },
    "language_info": {
      "codemirror_mode": {
        "name": "ipython",
        "version": 3
      },
      "file_extension": ".py",
      "mimetype": "text/x-python",
      "name": "python",
      "nbconvert_exporter": "python",
      "pygments_lexer": "ipython3",
      "version": "3.10.10"
    },
    "colab": {
      "provenance": [],
      "private_outputs": true,
      "gpuType": "T4",
      "include_colab_link": true
    },
    "gpuClass": "standard",
    "accelerator": "GPU"
  },
  "nbformat": 4,
  "nbformat_minor": 5
}